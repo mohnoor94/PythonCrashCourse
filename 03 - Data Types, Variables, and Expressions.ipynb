{
 "cells": [
  {
   "cell_type": "markdown",
   "metadata": {},
   "source": [
    "# 3.1 Data Types"
   ]
  },
  {
   "cell_type": "code",
   "execution_count": null,
   "metadata": {},
   "outputs": [],
   "source": [
    "3 + 5"
   ]
  },
  {
   "cell_type": "code",
   "execution_count": null,
   "metadata": {},
   "outputs": [],
   "source": [
    "type(3 + 5)"
   ]
  },
  {
   "cell_type": "code",
   "execution_count": null,
   "metadata": {},
   "outputs": [],
   "source": [
    "type('Hi')"
   ]
  },
  {
   "cell_type": "code",
   "execution_count": null,
   "metadata": {},
   "outputs": [],
   "source": [
    "\"Hello \" + \"World\""
   ]
  },
  {
   "cell_type": "code",
   "execution_count": null,
   "metadata": {},
   "outputs": [],
   "source": [
    "type(\"Hello \" + \"World\")"
   ]
  },
  {
   "cell_type": "code",
   "execution_count": null,
   "metadata": {},
   "outputs": [],
   "source": [
    "7 + \"8\"  # Don't do this!"
   ]
  },
  {
   "cell_type": "code",
   "execution_count": null,
   "metadata": {},
   "outputs": [],
   "source": [
    "type(9.3)"
   ]
  },
  {
   "cell_type": "code",
   "execution_count": null,
   "metadata": {},
   "outputs": [],
   "source": [
    "type(3 + 4.6)"
   ]
  },
  {
   "cell_type": "code",
   "execution_count": null,
   "metadata": {},
   "outputs": [],
   "source": [
    "type(False)"
   ]
  },
  {
   "cell_type": "markdown",
   "metadata": {},
   "source": [
    "## QuickQuiz"
   ]
  },
  {
   "cell_type": "code",
   "execution_count": null,
   "metadata": {},
   "outputs": [],
   "source": [
    "%run assessments/Assessments.ipynb"
   ]
  },
  {
   "cell_type": "code",
   "execution_count": null,
   "metadata": {},
   "outputs": [],
   "source": [
    "assesment03_1.start()"
   ]
  },
  {
   "cell_type": "markdown",
   "metadata": {},
   "source": [
    "## Summary"
   ]
  },
  {
   "cell_type": "markdown",
   "metadata": {},
   "source": [
    "- Text in between quotes -- either single or double quotes -- is a string (**str**) data type.\n",
    "- An integer (**int**) is a whole number, without a fraction.\n",
    "- A **float** is a real number that can contain a fractional part.\n",
    "- For example, 1, 7, 342 are all integers, while 5.3, 3.14159 and 6.0 are all floats.\n",
    "- When attempting to mix incompatible data types, you may encounter a TypeError.\n",
    "- You can always check the data type of something using the **type()** function."
   ]
  },
  {
   "cell_type": "markdown",
   "metadata": {},
   "source": [
    "# 3.2 Variables"
   ]
  },
  {
   "cell_type": "markdown",
   "metadata": {},
   "source": [
    "- Variables are named containers that we give to certain memory locations in our program to hold certain values.\n",
    "- Variables can hold a value of any data type."
   ]
  },
  {
   "cell_type": "markdown",
   "metadata": {},
   "source": [
    "Ex. Calculate the area of a rectangle given its length and width:"
   ]
  },
  {
   "cell_type": "code",
   "execution_count": null,
   "metadata": {},
   "outputs": [],
   "source": [
    "x = 10\n",
    "\n",
    "type(x)"
   ]
  },
  {
   "cell_type": "code",
   "execution_count": null,
   "metadata": {},
   "outputs": [],
   "source": [
    "x = 2.5\n",
    "\n",
    "print(x, type(x))"
   ]
  },
  {
   "cell_type": "code",
   "execution_count": null,
   "metadata": {},
   "outputs": [],
   "source": [
    "x = \"Ali\"\n",
    "\n",
    "print(x, type(x))"
   ]
  },
  {
   "cell_type": "code",
   "execution_count": null,
   "metadata": {},
   "outputs": [],
   "source": [
    "length = 20  # This is a variable\n",
    "width = 10   # This is another variable\n",
    "area = length * width # This is a third variable\n",
    "print(\"Area is: \" + area)  # Opps! We said DON'T DO THAT! Fix it!"
   ]
  },
  {
   "cell_type": "markdown",
   "metadata": {},
   "source": [
    "Cannot fix it? Lazy You!\n",
    "Let me fix it for you :)"
   ]
  },
  {
   "cell_type": "code",
   "execution_count": null,
   "metadata": {},
   "outputs": [],
   "source": [
    "print(\"Area is: \" + str(area))"
   ]
  },
  {
   "cell_type": "markdown",
   "metadata": {},
   "source": [
    "- Above, we created 3 variables:\n",
    "    - length\n",
    "    - width\n",
    "    - area\n",
    "- The process of giving these variables some values (storing a value inside a variable) is called *Assignment*.\n",
    "    - length = 20  --> We assign the value 20 to the *length* variable\n",
    "    - width  = 10  --> You know! same as above.\n",
    "    - area   = length * width --> We assign the result of the *length* * *width* expression to the *area* variable. Expression?"
   ]
  },
  {
   "cell_type": "markdown",
   "metadata": {},
   "source": [
    "## QuickQuiz"
   ]
  },
  {
   "cell_type": "code",
   "execution_count": null,
   "metadata": {},
   "outputs": [],
   "source": [
    "assessment03_2.start()"
   ]
  },
  {
   "cell_type": "markdown",
   "metadata": {},
   "source": [
    "## More Boring Stuff\n",
    "\n",
    "\n",
    "### Identifiers and Keywords\n",
    "- An **identifier** is a **name** given to entities like class, functions, variables, etc. It helps to differentiate one entity from another.\n",
    "  - Identifiers are case sensetive, so: ONE, one, and One are three totaly different names in Python.\n",
    "- Keywords are the reserved words in Python.\n",
    "  - **We cannot use a keyword as a variable name, function name or any other identifier**. They are used to define the syntax and structure of the Python language.\n",
    "  - Keywords are case sensitive.\n",
    "  - Some keywords in Python: `True`, `False`, `if`, `else`, `for`, `while`, `in`, `none`, `or`, `and`, `not`, `return`... \n",
    "  \n",
    "  \n",
    "### Variables Naming (Identifiers) Restrictions / Rules\n",
    "- Don't use keywords or functions that Python reserves for its own. ( *Why would you?* :3)\n",
    "- Don't use spaces (use _ to split different words, like: do_stuff)\n",
    "- Must start with a letter or an underscore (They mean, don't start with a number! like 3a won't be a valid name, but a3 will be, but why will you name your variable a3? Don't!)\n",
    "- Don't use symbols! (yes, it's not your emojis game to add symbols here). One exception is the underscore ( _ ) and not the dash ( - ).\n",
    "\n",
    "All of the points above would feel natural and easy enough in the near future for you, but what won't feel the same this easy is to choose meaningful names. Focus on that instead."
   ]
  },
  {
   "cell_type": "markdown",
   "metadata": {},
   "source": [
    "## QuickQuiz"
   ]
  },
  {
   "cell_type": "code",
   "execution_count": null,
   "metadata": {},
   "outputs": [],
   "source": [
    "assesment03_3.start()"
   ]
  },
  {
   "cell_type": "markdown",
   "metadata": {},
   "source": [
    "# 3.3 Expressions"
   ]
  },
  {
   "cell_type": "markdown",
   "metadata": {},
   "source": [
    "- Expression: A combination of numbers, symbols, or other variables that produces a result when evaluated.\n",
    "\n",
    "- Blablabla, again please?\n",
    "    - Okay, this example (length * width) is an expression because it's a combination of:\n",
    "        - Variables (like `length` and `width`)\n",
    "        - Symbols (like the multiplication operator (yes that's the star, it's called the multiplication operator, just another fancy name for a silly thing))\n",
    "    - Expressions could contain numbers as well, like 2, 4.9, -15."
   ]
  },
  {
   "cell_type": "code",
   "execution_count": null,
   "metadata": {},
   "outputs": [],
   "source": [
    "26 - 3"
   ]
  },
  {
   "cell_type": "code",
   "execution_count": null,
   "metadata": {},
   "outputs": [],
   "source": [
    "a = 7\n",
    "\n",
    "print(10 * 3 - a)"
   ]
  },
  {
   "cell_type": "code",
   "execution_count": null,
   "metadata": {},
   "outputs": [],
   "source": [
    "a = 7\n",
    "b = 10 * 3 - a\n",
    "c = a * b\n",
    "\n",
    "print(a, b, c)"
   ]
  },
  {
   "cell_type": "markdown",
   "metadata": {},
   "source": [
    "## QuickQuiz"
   ]
  },
  {
   "cell_type": "code",
   "execution_count": null,
   "metadata": {},
   "outputs": [],
   "source": [
    "assesment03_4.start()"
   ]
  },
  {
   "cell_type": "code",
   "execution_count": null,
   "metadata": {},
   "outputs": [],
   "source": [
    "assesment03_5.start()"
   ]
  },
  {
   "cell_type": "markdown",
   "metadata": {},
   "source": [
    "# 3.4 Questions?"
   ]
  },
  {
   "cell_type": "code",
   "execution_count": null,
   "metadata": {},
   "outputs": [],
   "source": []
  }
 ],
 "metadata": {
  "kernelspec": {
   "display_name": "Python 3",
   "language": "python",
   "name": "python3"
  },
  "language_info": {
   "codemirror_mode": {
    "name": "ipython",
    "version": 3
   },
   "file_extension": ".py",
   "mimetype": "text/x-python",
   "name": "python",
   "nbconvert_exporter": "python",
   "pygments_lexer": "ipython3",
   "version": "3.8.3"
  }
 },
 "nbformat": 4,
 "nbformat_minor": 4
}
